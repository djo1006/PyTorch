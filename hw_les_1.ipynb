{
  "nbformat": 4,
  "nbformat_minor": 0,
  "metadata": {
    "kernelspec": {
      "display_name": "Python 3",
      "language": "python",
      "name": "python3"
    },
    "language_info": {
      "codemirror_mode": {
        "name": "ipython",
        "version": 3
      },
      "file_extension": ".py",
      "mimetype": "text/x-python",
      "name": "python",
      "nbconvert_exporter": "python",
      "pygments_lexer": "ipython3",
      "version": "3.7.4"
    },
    "colab": {
      "name": "hw_les_1.ipynb",
      "provenance": [],
      "collapsed_sections": []
    }
  },
  "cells": [
    {
      "cell_type": "code",
      "metadata": {
        "id": "_nBMvQ78k3sf"
      },
      "source": [
        "import torch"
      ],
      "execution_count": 1,
      "outputs": []
    },
    {
      "cell_type": "code",
      "metadata": {
        "id": "CL3roh_v35QY"
      },
      "source": [
        "def print_tens_info(tensor):\n",
        "    print(\"X :\\n%s\\n\" % tensor)\n",
        "    print(\"X количество измерений:\\n%s\\n\" % tensor.dim())\n",
        "    print(\"X размеры : \",  tensor.size())\n",
        "    print(\"X тип : %s\\n\" % (tensor.type()))\n",
        "#     print(\"Добавим 10 :\\n%s\\n\" % (tensor + 10))\n",
        "#     print(\"Среднее по строчке :\\n%s\\n\" % (tensor.mean(axis=-1)))\n",
        "#     print(\"Среднее по столбцу :\\n%s\\n\" % (tensor.mean(axis=0)))"
      ],
      "execution_count": 3,
      "outputs": []
    },
    {
      "cell_type": "code",
      "metadata": {
        "id": "BUyLOTeXk3si"
      },
      "source": [
        "# Создайте случайный FloatTensor размера 3x4x5"
      ],
      "execution_count": null,
      "outputs": []
    },
    {
      "cell_type": "code",
      "metadata": {
        "colab": {
          "base_uri": "https://localhost:8080/"
        },
        "id": "vCPXugV73qb6",
        "outputId": "fe83a115-d4e7-4fe2-d6d0-546dbda21a8f"
      },
      "source": [
        "x = torch.randn(3, 4, 5)\n",
        "print_tens_info(x)"
      ],
      "execution_count": 4,
      "outputs": [
        {
          "output_type": "stream",
          "name": "stdout",
          "text": [
            "X :\n",
            "tensor([[[-1.5389e-01, -5.5880e-01,  4.2030e-01, -1.1919e+00, -1.8549e+00],\n",
            "         [-4.7502e-01,  5.5980e-01,  1.3674e+00, -1.0457e-01,  3.9537e-01],\n",
            "         [ 9.5713e-01, -4.5634e-02, -7.6788e-04,  9.5532e-01, -5.3944e-01],\n",
            "         [-9.1943e-01,  1.4550e+00,  5.1817e-01, -1.4216e+00,  6.9016e-01]],\n",
            "\n",
            "        [[ 3.0965e-01, -1.5968e-01,  3.7716e-01, -4.7984e-01, -1.1975e+00],\n",
            "         [ 4.1007e-01,  9.3218e-01, -7.2162e-01,  1.1319e+00, -6.9453e-04],\n",
            "         [ 3.1774e-01, -4.1312e-01,  8.3485e-01,  5.0918e-01,  1.6145e+00],\n",
            "         [-1.2735e+00, -2.3694e-01, -1.2246e+00,  1.0299e+00, -4.0779e-01]],\n",
            "\n",
            "        [[ 2.8000e-01,  8.0084e-01,  7.8458e-01, -1.7037e+00, -1.1369e+00],\n",
            "         [-1.1261e+00,  6.1284e-01, -4.8419e-02,  3.6846e-01, -2.5564e-01],\n",
            "         [-1.8103e+00, -9.5504e-01, -7.4193e-03, -6.5713e-01, -1.0972e+00],\n",
            "         [ 5.5592e-01,  1.5934e+00,  1.0462e-01,  1.1603e+00, -6.7349e-01]]])\n",
            "\n",
            "X количество измерений:\n",
            "3\n",
            "\n",
            "X размеры :  torch.Size([3, 4, 5])\n",
            "X тип : torch.FloatTensor\n",
            "\n"
          ]
        }
      ]
    },
    {
      "cell_type": "code",
      "metadata": {
        "id": "ExsPCv8ek3sj"
      },
      "source": [
        "# Выведите его форму (shape)"
      ],
      "execution_count": null,
      "outputs": []
    },
    {
      "cell_type": "code",
      "metadata": {
        "colab": {
          "base_uri": "https://localhost:8080/"
        },
        "id": "D7OAt8Ut4E_7",
        "outputId": "dbb9a44a-d577-4db5-b9dd-f8f12429ef5b"
      },
      "source": [
        "x.shape"
      ],
      "execution_count": 5,
      "outputs": [
        {
          "output_type": "execute_result",
          "data": {
            "text/plain": [
              "torch.Size([3, 4, 5])"
            ]
          },
          "metadata": {},
          "execution_count": 5
        }
      ]
    },
    {
      "cell_type": "code",
      "metadata": {
        "id": "epPwchtgk3sj"
      },
      "source": [
        "# Приведите его к форме 6 X 10"
      ],
      "execution_count": null,
      "outputs": []
    },
    {
      "cell_type": "code",
      "metadata": {
        "id": "Gc9t1MNQ6HJI"
      },
      "source": [
        "x_6_10 = torch.reshape(x, (6, 10))"
      ],
      "execution_count": 27,
      "outputs": []
    },
    {
      "cell_type": "code",
      "metadata": {
        "colab": {
          "base_uri": "https://localhost:8080/"
        },
        "id": "LLiibUKL6MVv",
        "outputId": "40e08d41-bb58-4bd0-9995-4a0b95d778f4"
      },
      "source": [
        "x_6_10"
      ],
      "execution_count": 28,
      "outputs": [
        {
          "output_type": "execute_result",
          "data": {
            "text/plain": [
              "tensor([[-1.5389e-01, -5.5880e-01,  4.2030e-01, -1.1919e+00, -1.8549e+00,\n",
              "         -4.7502e-01,  5.5980e-01,  1.3674e+00, -1.0457e-01,  3.9537e-01],\n",
              "        [ 9.5713e-01, -4.5634e-02, -7.6788e-04,  9.5532e-01, -5.3944e-01,\n",
              "         -9.1943e-01,  1.4550e+00,  5.1817e-01, -1.4216e+00,  6.9016e-01],\n",
              "        [ 3.0965e-01, -1.5968e-01,  3.7716e-01, -4.7984e-01, -1.1975e+00,\n",
              "          4.1007e-01,  9.3218e-01, -7.2162e-01,  1.1319e+00, -6.9453e-04],\n",
              "        [ 3.1774e-01, -4.1312e-01,  8.3485e-01,  5.0918e-01,  1.6145e+00,\n",
              "         -1.2735e+00, -2.3694e-01, -1.2246e+00,  1.0299e+00, -4.0779e-01],\n",
              "        [ 2.8000e-01,  8.0084e-01,  7.8458e-01, -1.7037e+00, -1.1369e+00,\n",
              "         -1.1261e+00,  6.1284e-01, -4.8419e-02,  3.6846e-01, -2.5564e-01],\n",
              "        [-1.8103e+00, -9.5504e-01, -7.4193e-03, -6.5713e-01, -1.0972e+00,\n",
              "          5.5592e-01,  1.5934e+00,  1.0462e-01,  1.1603e+00, -6.7349e-01]])"
            ]
          },
          "metadata": {},
          "execution_count": 28
        }
      ]
    },
    {
      "cell_type": "code",
      "metadata": {
        "id": "oZVcneryk3sj"
      },
      "source": [
        "# Умножьте его на вектор [1, 4, 2, 2, 1] поэлементно"
      ],
      "execution_count": null,
      "outputs": []
    },
    {
      "cell_type": "code",
      "metadata": {
        "colab": {
          "base_uri": "https://localhost:8080/"
        },
        "id": "5LAMkrRV6Uiu",
        "outputId": "fe73de83-2e02-4287-de8e-c43154384789"
      },
      "source": [
        "y = torch.LongTensor([1, 4, 2, 2, 1])\n",
        "torch.mul(x, y)"
      ],
      "execution_count": 8,
      "outputs": [
        {
          "output_type": "execute_result",
          "data": {
            "text/plain": [
              "tensor([[[-1.5389e-01, -2.2352e+00,  8.4061e-01, -2.3838e+00, -1.8549e+00],\n",
              "         [-4.7502e-01,  2.2392e+00,  2.7349e+00, -2.0914e-01,  3.9537e-01],\n",
              "         [ 9.5713e-01, -1.8253e-01, -1.5358e-03,  1.9106e+00, -5.3944e-01],\n",
              "         [-9.1943e-01,  5.8199e+00,  1.0363e+00, -2.8433e+00,  6.9016e-01]],\n",
              "\n",
              "        [[ 3.0965e-01, -6.3871e-01,  7.5432e-01, -9.5969e-01, -1.1975e+00],\n",
              "         [ 4.1007e-01,  3.7287e+00, -1.4432e+00,  2.2638e+00, -6.9453e-04],\n",
              "         [ 3.1774e-01, -1.6525e+00,  1.6697e+00,  1.0184e+00,  1.6145e+00],\n",
              "         [-1.2735e+00, -9.4776e-01, -2.4493e+00,  2.0598e+00, -4.0779e-01]],\n",
              "\n",
              "        [[ 2.8000e-01,  3.2033e+00,  1.5692e+00, -3.4073e+00, -1.1369e+00],\n",
              "         [-1.1261e+00,  2.4514e+00, -9.6837e-02,  7.3691e-01, -2.5564e-01],\n",
              "         [-1.8103e+00, -3.8202e+00, -1.4839e-02, -1.3143e+00, -1.0972e+00],\n",
              "         [ 5.5592e-01,  6.3734e+00,  2.0924e-01,  2.3207e+00, -6.7349e-01]]])"
            ]
          },
          "metadata": {},
          "execution_count": 8
        }
      ]
    },
    {
      "cell_type": "code",
      "metadata": {
        "id": "iEC8gQr9k3sk"
      },
      "source": [
        "# Умножьте тензор матрично на себя, чтобы результат был размерности 6x6"
      ],
      "execution_count": null,
      "outputs": []
    },
    {
      "cell_type": "code",
      "metadata": {
        "id": "IklY7nC96eb-"
      },
      "source": [
        "x_10_6 = torch.transpose(x_6_10, 0, 1)"
      ],
      "execution_count": 29,
      "outputs": []
    },
    {
      "cell_type": "code",
      "metadata": {
        "colab": {
          "base_uri": "https://localhost:8080/"
        },
        "id": "EnZ2Oe5T8DvA",
        "outputId": "38e5ba67-7c14-4acb-a87c-7e3e07b5b247"
      },
      "source": [
        "x_6_6 = torch.matmul(x_6_10, x_10_6)\n",
        "x_6_6.shape, x_6_6"
      ],
      "execution_count": 31,
      "outputs": [
        {
          "output_type": "execute_result",
          "data": {
            "text/plain": [
              "(torch.Size([6, 6]),\n",
              " tensor([[ 7.9499,  2.1212,  2.2148, -4.5399,  4.6508,  4.0108],\n",
              "         [ 2.1212,  7.8500, -0.5133, -1.6161,  0.4183, -1.9780],\n",
              "         [ 2.2148, -0.5133,  4.7668, -0.3918,  2.9954,  4.1699],\n",
              "         [-4.5399, -1.6161, -0.3918,  8.2392, -0.4580, -2.0368],\n",
              "         [ 4.6508,  0.4183,  2.9954, -0.4580,  7.3775,  2.0345],\n",
              "         [ 4.0108, -1.9780,  4.1699, -2.0368,  2.0345, 10.4835]]))"
            ]
          },
          "metadata": {},
          "execution_count": 31
        }
      ]
    },
    {
      "cell_type": "code",
      "metadata": {
        "id": "UX9pES2ok3sk"
      },
      "source": [
        "# Посчитайте производную функции y = x**3 + z - 75t в точке (1, 0.5, 2)"
      ],
      "execution_count": null,
      "outputs": []
    },
    {
      "cell_type": "code",
      "metadata": {
        "id": "JLUARESLVqNJ"
      },
      "source": [
        "from torch.autograd import Variable"
      ],
      "execution_count": 32,
      "outputs": []
    },
    {
      "cell_type": "code",
      "metadata": {
        "id": "o6MBdDZWVtzn"
      },
      "source": [
        "x = Variable(torch.FloatTensor([1.]), requires_grad = True)\n",
        "z = Variable(torch.FloatTensor([0.5]), requires_grad = True)\n",
        "t = Variable(torch.FloatTensor([2.]), requires_grad = True)"
      ],
      "execution_count": 49,
      "outputs": []
    },
    {
      "cell_type": "code",
      "metadata": {
        "id": "J68p5Tn4VPse"
      },
      "source": [
        "y = x**3 + z - 75*t"
      ],
      "execution_count": 50,
      "outputs": []
    },
    {
      "cell_type": "code",
      "metadata": {
        "id": "ZE5A8_xJYW8I"
      },
      "source": [
        "y.backward([x, z, t])"
      ],
      "execution_count": 51,
      "outputs": []
    },
    {
      "cell_type": "code",
      "metadata": {
        "colab": {
          "base_uri": "https://localhost:8080/"
        },
        "id": "i9YdTH_VZHDh",
        "outputId": "d33ec4f4-2221-46d3-eead-ccf708a32880"
      },
      "source": [
        "x.grad + z.grad + t.grad"
      ],
      "execution_count": 52,
      "outputs": [
        {
          "output_type": "execute_result",
          "data": {
            "text/plain": [
              "tensor([-71.])"
            ]
          },
          "metadata": {},
          "execution_count": 52
        }
      ]
    },
    {
      "cell_type": "code",
      "metadata": {
        "id": "G8za3fEwk3sl"
      },
      "source": [
        "# Создайте единичный тензор размера 5x6\n",
        "q_5_6 = torch.ones(5, 6)"
      ],
      "execution_count": 53,
      "outputs": []
    },
    {
      "cell_type": "code",
      "metadata": {
        "id": "gdxj04h3k3sl"
      },
      "source": [
        "# Переведите его в формат numpy"
      ],
      "execution_count": null,
      "outputs": []
    },
    {
      "cell_type": "code",
      "metadata": {
        "colab": {
          "base_uri": "https://localhost:8080/"
        },
        "id": "Klf4gU-TcwUk",
        "outputId": "8cf69217-6940-4778-dfa9-afc4668410cb"
      },
      "source": [
        "np_5_6 = q_5_6.numpy()\n",
        "np_5_6"
      ],
      "execution_count": 56,
      "outputs": [
        {
          "output_type": "execute_result",
          "data": {
            "text/plain": [
              "array([[1., 1., 1., 1., 1., 1.],\n",
              "       [1., 1., 1., 1., 1., 1.],\n",
              "       [1., 1., 1., 1., 1., 1.],\n",
              "       [1., 1., 1., 1., 1., 1.],\n",
              "       [1., 1., 1., 1., 1., 1.]], dtype=float32)"
            ]
          },
          "metadata": {},
          "execution_count": 56
        }
      ]
    },
    {
      "cell_type": "code",
      "metadata": {
        "id": "iEoErDvek3sm"
      },
      "source": [
        "# Давайте теперь пооптимизируем: возьмите функцию y = x**w1 - 2 * x**2 + 5\n",
        "# Посчитайте "
      ],
      "execution_count": null,
      "outputs": []
    },
    {
      "cell_type": "code",
      "metadata": {
        "id": "Z-2EcRM-fKmu"
      },
      "source": [
        "from torch import nn\n",
        "from torch import optim"
      ],
      "execution_count": 93,
      "outputs": []
    },
    {
      "cell_type": "code",
      "metadata": {
        "colab": {
          "base_uri": "https://localhost:8080/"
        },
        "id": "uSdEmMIAf7u5",
        "outputId": "ada6cd9c-5bfd-47ce-c4b8-e4dad810217e"
      },
      "source": [
        "x = Variable(torch.randn(1), requires_grad = True)\n",
        "y = Variable(torch.randn(1), requires_grad = False)\n",
        "w1 =  Variable(torch.randn(1), requires_grad = True)\n",
        "w1, x, y"
      ],
      "execution_count": 207,
      "outputs": [
        {
          "output_type": "execute_result",
          "data": {
            "text/plain": [
              "(tensor([-0.6836], requires_grad=True),\n",
              " tensor([1.7620], requires_grad=True),\n",
              " tensor([1.0269]))"
            ]
          },
          "metadata": {},
          "execution_count": 207
        }
      ]
    },
    {
      "cell_type": "code",
      "metadata": {
        "id": "XbKh8cDwiItx"
      },
      "source": [
        "def func(x):\n",
        "  return x**w1 - 2 * x**2 + 5"
      ],
      "execution_count": 208,
      "outputs": []
    },
    {
      "cell_type": "code",
      "metadata": {
        "id": "JDf0Tpkyi22v"
      },
      "source": [
        "criterion = nn.MSELoss()\n",
        "optimizer = torch.optim.SGD([w1], lr=0.001)"
      ],
      "execution_count": 209,
      "outputs": []
    },
    {
      "cell_type": "code",
      "metadata": {
        "colab": {
          "base_uri": "https://localhost:8080/"
        },
        "id": "m_3vBOOpi6YY",
        "outputId": "904aefcf-a6e2-40f7-b716-ad6c8e4c9115"
      },
      "source": [
        "optimizer.zero_grad()\n",
        "pred = func(x)\n",
        "loss = criterion(pred, y)\n",
        "print('loss: ', loss.item())"
      ],
      "execution_count": 210,
      "outputs": [
        {
          "output_type": "stream",
          "name": "stdout",
          "text": [
            "loss:  2.4254884719848633\n"
          ]
        }
      ]
    },
    {
      "cell_type": "code",
      "metadata": {
        "id": "N24gK_NBmYfT"
      },
      "source": [
        "loss.backward()"
      ],
      "execution_count": 211,
      "outputs": []
    },
    {
      "cell_type": "code",
      "metadata": {
        "id": "CiAGjqUTmEU6"
      },
      "source": [
        "optimizer.step()"
      ],
      "execution_count": 212,
      "outputs": []
    },
    {
      "cell_type": "code",
      "metadata": {
        "colab": {
          "base_uri": "https://localhost:8080/"
        },
        "id": "eBsfPVuFmMF4",
        "outputId": "86a4bfda-5f3e-47c1-bda2-7488a63c2464"
      },
      "source": [
        "w1"
      ],
      "execution_count": 213,
      "outputs": [
        {
          "output_type": "execute_result",
          "data": {
            "text/plain": [
              "tensor([-0.6824], requires_grad=True)"
            ]
          },
          "metadata": {},
          "execution_count": 213
        }
      ]
    }
  ]
}